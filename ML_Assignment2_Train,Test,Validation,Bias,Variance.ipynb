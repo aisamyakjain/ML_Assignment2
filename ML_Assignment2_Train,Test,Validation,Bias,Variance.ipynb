{
 "cells": [
  {
   "cell_type": "markdown",
   "id": "8c942437-2450-4fea-8db2-24e4704053fd",
   "metadata": {},
   "source": [
    "1: Define overfitting and underfitting in machine learning. What are the consequences of each, and how \n",
    "can they be mitigated?"
   ]
  },
  {
   "cell_type": "markdown",
   "id": "c8ab6eef-b97a-4c83-8cbc-c10285b05dd7",
   "metadata": {},
   "source": [
    "Overfitting occurs when a model learns training data too well, leading to poor generalization. It can be mitigated by increasing training data, feature selection, regularization, and cross-validation. Underfitting happens when a model is too simple and fails to capture the underlying patterns. It can be addressed by using more complex models and increasing model capacity."
   ]
  },
  {
   "cell_type": "markdown",
   "id": "f6fb9a83-1642-49f6-8609-3557a083f229",
   "metadata": {},
   "source": [
    "Q2: How can we reduce overfitting? Explain in brief."
   ]
  },
  {
   "cell_type": "markdown",
   "id": "43989203-e819-4f67-9abd-4988091436f6",
   "metadata": {},
   "source": [
    "To reduce overfitting in machine learning, you can:\n",
    "\n",
    "Increase training data.\n",
    "Perform feature selection or engineering to focus on relevant information.\n",
    "Apply regularization techniques like L1 or L2 regularization.\n",
    "Use cross-validation to assess model performance.\n",
    "Consider ensemble methods or model averaging.\n",
    "Tune hyperparameters effectively.\n",
    "Implement early stopping during training."
   ]
  },
  {
   "cell_type": "markdown",
   "id": "6dabe249-e56e-48ab-b62c-11ff360325ae",
   "metadata": {},
   "source": [
    "Q3: Explain underfitting. List scenarios where underfitting can occur in ML."
   ]
  },
  {
   "cell_type": "markdown",
   "id": "c0f2f6ea-f9b2-4254-95e1-e62b356f8939",
   "metadata": {},
   "source": [
    "Underfitting occurs when a machine learning model is too simple to capture the underlying patterns in the data. It leads to high bias and poor performance on both training and test data. Underfitting can happen when models are too basic, features are insufficient, or data complexity exceeds the model's capacity."
   ]
  },
  {
   "cell_type": "markdown",
   "id": "da904783-8891-4193-a1f8-17f65835e88d",
   "metadata": {},
   "source": [
    "Q4: Explain the bias-variance tradeoff in machine learning. What is the relationship between bias and \n",
    "variance, and how do they affect model performance"
   ]
  },
  {
   "cell_type": "markdown",
   "id": "0f93a83d-6b48-4583-9455-2dc5718a907b",
   "metadata": {},
   "source": [
    "The bias-variance tradeoff states that as model complexity increases, bias decreases but variance increases. High bias leads to underfitting, while high variance leads to overfitting. Balancing bias and variance is crucial to achieve optimal model performance by minimizing both errors simultaneously."
   ]
  },
  {
   "cell_type": "markdown",
   "id": "9fb35aea-8e64-4333-ab97-974024d6fbe9",
   "metadata": {},
   "source": [
    "Q5: Discuss some common methods for detecting overfitting and underfitting in machine learning models. \n",
    "How can you determine whether your model is overfitting or underfitting?"
   ]
  },
  {
   "cell_type": "markdown",
   "id": "e9cd55f1-cbd5-448f-be31-57f133d8ed9e",
   "metadata": {},
   "source": [
    "To detect overfitting and underfitting:\n",
    "\n",
    "Use holdout or cross-validation to compare training and validation performance.\n",
    "Plot learning curves to assess the gap between training and validation error.\n",
    "Analyze residuals for systematic patterns.\n",
    "Adjust regularization strength and observe the effect on performance. Overfitting shows high training performance but poor validation, while underfitting exhibits poor performance on both."
   ]
  },
  {
   "cell_type": "markdown",
   "id": "0de12968-8615-48ee-bf7f-5e3296a2e957",
   "metadata": {},
   "source": [
    "Q6: Compare and contrast bias and variance in machine learning. What are some examples of high bias \n",
    "and high variance models, and how do they differ in terms of their performance"
   ]
  },
  {
   "cell_type": "markdown",
   "id": "290cd21c-e65c-43b1-86a9-eb8cc8414d4d",
   "metadata": {},
   "source": [
    "Bias and variance in machine learning are two sources of errors that affect model performance:\n",
    "\n",
    "Bias: Error due to oversimplified assumptions. High bias models (e.g., linear regression) underfit, leading to low training and validation performance.\n",
    "\n",
    "Variance: Error due to sensitivity to training data. High variance models (e.g., decision trees) overfit, resulting in high training but low validation performance due to poor generalization."
   ]
  },
  {
   "cell_type": "markdown",
   "id": "acd2852c-4cb8-4654-89bb-7bbcf769c076",
   "metadata": {},
   "source": [
    "Q7: What is regularization in machine learning, and how can it be used to prevent overfitting? Describe \n",
    "some common regularization techniques and how they work"
   ]
  },
  {
   "cell_type": "markdown",
   "id": "869fc13a-354a-44aa-8d72-d448dc312ca7",
   "metadata": {},
   "source": [
    "Regularization is a technique in machine learning used to prevent overfitting by adding a penalty term to the model's objective function. Common regularization techniques include L1 (Lasso) and L2 (Ridge) regularization. L1 regularization encourages sparsity by adding the absolute values of coefficients, while L2 regularization imposes a penalty based on the squared magnitudes of coefficients."
   ]
  },
  {
   "cell_type": "code",
   "execution_count": null,
   "id": "2151f4e0-e508-43e8-95ba-39fea4255522",
   "metadata": {},
   "outputs": [],
   "source": []
  }
 ],
 "metadata": {
  "kernelspec": {
   "display_name": "Python 3 (ipykernel)",
   "language": "python",
   "name": "python3"
  },
  "language_info": {
   "codemirror_mode": {
    "name": "ipython",
    "version": 3
   },
   "file_extension": ".py",
   "mimetype": "text/x-python",
   "name": "python",
   "nbconvert_exporter": "python",
   "pygments_lexer": "ipython3",
   "version": "3.10.8"
  }
 },
 "nbformat": 4,
 "nbformat_minor": 5
}
